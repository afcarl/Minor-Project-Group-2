{
 "cells": [
  {
   "cell_type": "code",
   "execution_count": 5,
   "metadata": {},
   "outputs": [],
   "source": [
    "from glob import glob\n",
    "import numpy as np\n",
    "import pandas as pd\n",
    "from numpy.lib.format import open_memmap\n",
    "\n",
    "files = glob('/run/media/plengkeek/Trafficdata/STACK/dataframe/test/*')\n"
   ]
  },
  {
   "cell_type": "code",
   "execution_count": 6,
   "metadata": {},
   "outputs": [
    {
     "data": {
      "text/plain": [
       "['/run/media/plengkeek/Trafficdata/STACK/dataframe/test/part-00000-0a6b74be-36d9-48b1-a843-ff11efbdc8f9-c000.csv',\n",
       " '/run/media/plengkeek/Trafficdata/STACK/dataframe/test/part-00000-0f94e9f0-2a19-45d7-9899-3379728b9a69-c000.csv',\n",
       " '/run/media/plengkeek/Trafficdata/STACK/dataframe/test/part-00000-113e0eed-9404-4ac5-8279-af44cb9c6e02-c000.csv',\n",
       " '/run/media/plengkeek/Trafficdata/STACK/dataframe/test/part-00000-127e19f0-2d46-47e3-90cf-08fe3a5b2d77-c000.csv',\n",
       " '/run/media/plengkeek/Trafficdata/STACK/dataframe/test/part-00000-2370244f-f497-4b35-bd9f-3d377c213b5d-c000.csv',\n",
       " '/run/media/plengkeek/Trafficdata/STACK/dataframe/test/part-00000-2416279b-9006-49bb-a0cb-d3b3ad263318-c000.csv',\n",
       " '/run/media/plengkeek/Trafficdata/STACK/dataframe/test/part-00000-74c3c076-8362-4d61-ad05-a6016e852ffe-c000.csv',\n",
       " '/run/media/plengkeek/Trafficdata/STACK/dataframe/test/part-00000-7f91aaa3-d3c0-4934-b2d7-f699f1ba32aa-c000.csv',\n",
       " '/run/media/plengkeek/Trafficdata/STACK/dataframe/test/part-00000-85313363-ff16-4068-8045-b1f0d7df48bc-c000.csv',\n",
       " '/run/media/plengkeek/Trafficdata/STACK/dataframe/test/part-00000-86c07821-073e-48ee-a892-649552e6929d-c000.csv',\n",
       " '/run/media/plengkeek/Trafficdata/STACK/dataframe/test/part-00000-94d7f887-314f-4ae1-883a-d8095587c37e-c000.csv',\n",
       " '/run/media/plengkeek/Trafficdata/STACK/dataframe/test/part-00000-b151868d-7fcb-45ae-bc23-71994c6a8541-c000.csv',\n",
       " '/run/media/plengkeek/Trafficdata/STACK/dataframe/test/part-00000-b5b5ced8-b98c-420c-9eb0-adc1276a05d4-c000.csv',\n",
       " '/run/media/plengkeek/Trafficdata/STACK/dataframe/test/part-00000-c3ffb6b8-1a54-48d3-8d4c-49f7d65b1999-c000.csv',\n",
       " '/run/media/plengkeek/Trafficdata/STACK/dataframe/test/part-00000-ce67e516-cf12-4b99-8a69-8b95d5c9fd54-c000.csv',\n",
       " '/run/media/plengkeek/Trafficdata/STACK/dataframe/test/part-00001-0a6b74be-36d9-48b1-a843-ff11efbdc8f9-c000.csv',\n",
       " '/run/media/plengkeek/Trafficdata/STACK/dataframe/test/part-00001-0f94e9f0-2a19-45d7-9899-3379728b9a69-c000.csv',\n",
       " '/run/media/plengkeek/Trafficdata/STACK/dataframe/test/part-00001-113e0eed-9404-4ac5-8279-af44cb9c6e02-c000.csv',\n",
       " '/run/media/plengkeek/Trafficdata/STACK/dataframe/test/part-00001-2370244f-f497-4b35-bd9f-3d377c213b5d-c000.csv',\n",
       " '/run/media/plengkeek/Trafficdata/STACK/dataframe/test/part-00001-2416279b-9006-49bb-a0cb-d3b3ad263318-c000.csv',\n",
       " '/run/media/plengkeek/Trafficdata/STACK/dataframe/test/part-00001-74c3c076-8362-4d61-ad05-a6016e852ffe-c000.csv',\n",
       " '/run/media/plengkeek/Trafficdata/STACK/dataframe/test/part-00001-7f91aaa3-d3c0-4934-b2d7-f699f1ba32aa-c000.csv',\n",
       " '/run/media/plengkeek/Trafficdata/STACK/dataframe/test/part-00001-7f939f70-0dd5-4968-9157-fc54b14dfd5f-c000.csv',\n",
       " '/run/media/plengkeek/Trafficdata/STACK/dataframe/test/part-00001-85313363-ff16-4068-8045-b1f0d7df48bc-c000.csv',\n",
       " '/run/media/plengkeek/Trafficdata/STACK/dataframe/test/part-00001-86c07821-073e-48ee-a892-649552e6929d-c000.csv',\n",
       " '/run/media/plengkeek/Trafficdata/STACK/dataframe/test/part-00001-94d7f887-314f-4ae1-883a-d8095587c37e-c000.csv',\n",
       " '/run/media/plengkeek/Trafficdata/STACK/dataframe/test/part-00001-b151868d-7fcb-45ae-bc23-71994c6a8541-c000.csv',\n",
       " '/run/media/plengkeek/Trafficdata/STACK/dataframe/test/part-00001-b5b5ced8-b98c-420c-9eb0-adc1276a05d4-c000.csv',\n",
       " '/run/media/plengkeek/Trafficdata/STACK/dataframe/test/part-00000-7f939f70-0dd5-4968-9157-fc54b14dfd5f-c000.csv',\n",
       " '/run/media/plengkeek/Trafficdata/STACK/dataframe/test/part-00001-127e19f0-2d46-47e3-90cf-08fe3a5b2d77-c000.csv',\n",
       " '/run/media/plengkeek/Trafficdata/STACK/dataframe/test/part-00001-c3ffb6b8-1a54-48d3-8d4c-49f7d65b1999-c000.csv',\n",
       " '/run/media/plengkeek/Trafficdata/STACK/dataframe/test/part-00002-85313363-ff16-4068-8045-b1f0d7df48bc-c000.csv',\n",
       " '/run/media/plengkeek/Trafficdata/STACK/dataframe/test/part-00003-2370244f-f497-4b35-bd9f-3d377c213b5d-c000.csv',\n",
       " '/run/media/plengkeek/Trafficdata/STACK/dataframe/test/part-00003-ce67e516-cf12-4b99-8a69-8b95d5c9fd54-c000.csv',\n",
       " '/run/media/plengkeek/Trafficdata/STACK/dataframe/test/part-00004-86c07821-073e-48ee-a892-649552e6929d-c000.csv',\n",
       " '/run/media/plengkeek/Trafficdata/STACK/dataframe/test/part-00005-2416279b-9006-49bb-a0cb-d3b3ad263318-c000.csv',\n",
       " '/run/media/plengkeek/Trafficdata/STACK/dataframe/test/part-00006-0a6b74be-36d9-48b1-a843-ff11efbdc8f9-c000.csv',\n",
       " '/run/media/plengkeek/Trafficdata/STACK/dataframe/test/part-00001-ce67e516-cf12-4b99-8a69-8b95d5c9fd54-c000.csv',\n",
       " '/run/media/plengkeek/Trafficdata/STACK/dataframe/test/part-00002-0a6b74be-36d9-48b1-a843-ff11efbdc8f9-c000.csv',\n",
       " '/run/media/plengkeek/Trafficdata/STACK/dataframe/test/part-00002-0f94e9f0-2a19-45d7-9899-3379728b9a69-c000.csv',\n",
       " '/run/media/plengkeek/Trafficdata/STACK/dataframe/test/part-00002-113e0eed-9404-4ac5-8279-af44cb9c6e02-c000.csv',\n",
       " '/run/media/plengkeek/Trafficdata/STACK/dataframe/test/part-00002-127e19f0-2d46-47e3-90cf-08fe3a5b2d77-c000.csv',\n",
       " '/run/media/plengkeek/Trafficdata/STACK/dataframe/test/part-00002-2370244f-f497-4b35-bd9f-3d377c213b5d-c000.csv',\n",
       " '/run/media/plengkeek/Trafficdata/STACK/dataframe/test/part-00002-2416279b-9006-49bb-a0cb-d3b3ad263318-c000.csv',\n",
       " '/run/media/plengkeek/Trafficdata/STACK/dataframe/test/part-00002-74c3c076-8362-4d61-ad05-a6016e852ffe-c000.csv',\n",
       " '/run/media/plengkeek/Trafficdata/STACK/dataframe/test/part-00002-7f91aaa3-d3c0-4934-b2d7-f699f1ba32aa-c000.csv',\n",
       " '/run/media/plengkeek/Trafficdata/STACK/dataframe/test/part-00002-7f939f70-0dd5-4968-9157-fc54b14dfd5f-c000.csv',\n",
       " '/run/media/plengkeek/Trafficdata/STACK/dataframe/test/part-00002-86c07821-073e-48ee-a892-649552e6929d-c000.csv',\n",
       " '/run/media/plengkeek/Trafficdata/STACK/dataframe/test/part-00002-94d7f887-314f-4ae1-883a-d8095587c37e-c000.csv',\n",
       " '/run/media/plengkeek/Trafficdata/STACK/dataframe/test/part-00002-b151868d-7fcb-45ae-bc23-71994c6a8541-c000.csv',\n",
       " '/run/media/plengkeek/Trafficdata/STACK/dataframe/test/part-00002-b5b5ced8-b98c-420c-9eb0-adc1276a05d4-c000.csv',\n",
       " '/run/media/plengkeek/Trafficdata/STACK/dataframe/test/part-00002-c3ffb6b8-1a54-48d3-8d4c-49f7d65b1999-c000.csv',\n",
       " '/run/media/plengkeek/Trafficdata/STACK/dataframe/test/part-00002-ce67e516-cf12-4b99-8a69-8b95d5c9fd54-c000.csv',\n",
       " '/run/media/plengkeek/Trafficdata/STACK/dataframe/test/part-00003-0a6b74be-36d9-48b1-a843-ff11efbdc8f9-c000.csv',\n",
       " '/run/media/plengkeek/Trafficdata/STACK/dataframe/test/part-00003-0f94e9f0-2a19-45d7-9899-3379728b9a69-c000.csv',\n",
       " '/run/media/plengkeek/Trafficdata/STACK/dataframe/test/part-00003-113e0eed-9404-4ac5-8279-af44cb9c6e02-c000.csv',\n",
       " '/run/media/plengkeek/Trafficdata/STACK/dataframe/test/part-00003-127e19f0-2d46-47e3-90cf-08fe3a5b2d77-c000.csv',\n",
       " '/run/media/plengkeek/Trafficdata/STACK/dataframe/test/part-00003-2416279b-9006-49bb-a0cb-d3b3ad263318-c000.csv',\n",
       " '/run/media/plengkeek/Trafficdata/STACK/dataframe/test/part-00003-74c3c076-8362-4d61-ad05-a6016e852ffe-c000.csv',\n",
       " '/run/media/plengkeek/Trafficdata/STACK/dataframe/test/part-00003-7f91aaa3-d3c0-4934-b2d7-f699f1ba32aa-c000.csv',\n",
       " '/run/media/plengkeek/Trafficdata/STACK/dataframe/test/part-00003-7f939f70-0dd5-4968-9157-fc54b14dfd5f-c000.csv',\n",
       " '/run/media/plengkeek/Trafficdata/STACK/dataframe/test/part-00003-85313363-ff16-4068-8045-b1f0d7df48bc-c000.csv',\n",
       " '/run/media/plengkeek/Trafficdata/STACK/dataframe/test/part-00003-86c07821-073e-48ee-a892-649552e6929d-c000.csv',\n",
       " '/run/media/plengkeek/Trafficdata/STACK/dataframe/test/part-00003-94d7f887-314f-4ae1-883a-d8095587c37e-c000.csv',\n",
       " '/run/media/plengkeek/Trafficdata/STACK/dataframe/test/part-00003-b151868d-7fcb-45ae-bc23-71994c6a8541-c000.csv',\n",
       " '/run/media/plengkeek/Trafficdata/STACK/dataframe/test/part-00003-b5b5ced8-b98c-420c-9eb0-adc1276a05d4-c000.csv',\n",
       " '/run/media/plengkeek/Trafficdata/STACK/dataframe/test/part-00003-c3ffb6b8-1a54-48d3-8d4c-49f7d65b1999-c000.csv',\n",
       " '/run/media/plengkeek/Trafficdata/STACK/dataframe/test/part-00004-0a6b74be-36d9-48b1-a843-ff11efbdc8f9-c000.csv',\n",
       " '/run/media/plengkeek/Trafficdata/STACK/dataframe/test/part-00004-0f94e9f0-2a19-45d7-9899-3379728b9a69-c000.csv',\n",
       " '/run/media/plengkeek/Trafficdata/STACK/dataframe/test/part-00004-113e0eed-9404-4ac5-8279-af44cb9c6e02-c000.csv',\n",
       " '/run/media/plengkeek/Trafficdata/STACK/dataframe/test/part-00004-127e19f0-2d46-47e3-90cf-08fe3a5b2d77-c000.csv',\n",
       " '/run/media/plengkeek/Trafficdata/STACK/dataframe/test/part-00004-2370244f-f497-4b35-bd9f-3d377c213b5d-c000.csv',\n",
       " '/run/media/plengkeek/Trafficdata/STACK/dataframe/test/part-00004-2416279b-9006-49bb-a0cb-d3b3ad263318-c000.csv',\n",
       " '/run/media/plengkeek/Trafficdata/STACK/dataframe/test/part-00004-74c3c076-8362-4d61-ad05-a6016e852ffe-c000.csv',\n",
       " '/run/media/plengkeek/Trafficdata/STACK/dataframe/test/part-00004-7f91aaa3-d3c0-4934-b2d7-f699f1ba32aa-c000.csv',\n",
       " '/run/media/plengkeek/Trafficdata/STACK/dataframe/test/part-00004-7f939f70-0dd5-4968-9157-fc54b14dfd5f-c000.csv',\n",
       " '/run/media/plengkeek/Trafficdata/STACK/dataframe/test/part-00004-85313363-ff16-4068-8045-b1f0d7df48bc-c000.csv',\n",
       " '/run/media/plengkeek/Trafficdata/STACK/dataframe/test/part-00004-94d7f887-314f-4ae1-883a-d8095587c37e-c000.csv',\n",
       " '/run/media/plengkeek/Trafficdata/STACK/dataframe/test/part-00004-b151868d-7fcb-45ae-bc23-71994c6a8541-c000.csv',\n",
       " '/run/media/plengkeek/Trafficdata/STACK/dataframe/test/part-00004-b5b5ced8-b98c-420c-9eb0-adc1276a05d4-c000.csv',\n",
       " '/run/media/plengkeek/Trafficdata/STACK/dataframe/test/part-00004-c3ffb6b8-1a54-48d3-8d4c-49f7d65b1999-c000.csv',\n",
       " '/run/media/plengkeek/Trafficdata/STACK/dataframe/test/part-00004-ce67e516-cf12-4b99-8a69-8b95d5c9fd54-c000.csv',\n",
       " '/run/media/plengkeek/Trafficdata/STACK/dataframe/test/part-00005-0a6b74be-36d9-48b1-a843-ff11efbdc8f9-c000.csv',\n",
       " '/run/media/plengkeek/Trafficdata/STACK/dataframe/test/part-00005-0f94e9f0-2a19-45d7-9899-3379728b9a69-c000.csv',\n",
       " '/run/media/plengkeek/Trafficdata/STACK/dataframe/test/part-00005-113e0eed-9404-4ac5-8279-af44cb9c6e02-c000.csv',\n",
       " '/run/media/plengkeek/Trafficdata/STACK/dataframe/test/part-00005-127e19f0-2d46-47e3-90cf-08fe3a5b2d77-c000.csv',\n",
       " '/run/media/plengkeek/Trafficdata/STACK/dataframe/test/part-00005-2370244f-f497-4b35-bd9f-3d377c213b5d-c000.csv',\n",
       " '/run/media/plengkeek/Trafficdata/STACK/dataframe/test/part-00005-74c3c076-8362-4d61-ad05-a6016e852ffe-c000.csv',\n",
       " '/run/media/plengkeek/Trafficdata/STACK/dataframe/test/part-00005-7f91aaa3-d3c0-4934-b2d7-f699f1ba32aa-c000.csv',\n",
       " '/run/media/plengkeek/Trafficdata/STACK/dataframe/test/part-00005-7f939f70-0dd5-4968-9157-fc54b14dfd5f-c000.csv',\n",
       " '/run/media/plengkeek/Trafficdata/STACK/dataframe/test/part-00005-85313363-ff16-4068-8045-b1f0d7df48bc-c000.csv',\n",
       " '/run/media/plengkeek/Trafficdata/STACK/dataframe/test/part-00005-86c07821-073e-48ee-a892-649552e6929d-c000.csv',\n",
       " '/run/media/plengkeek/Trafficdata/STACK/dataframe/test/part-00005-94d7f887-314f-4ae1-883a-d8095587c37e-c000.csv',\n",
       " '/run/media/plengkeek/Trafficdata/STACK/dataframe/test/part-00005-b151868d-7fcb-45ae-bc23-71994c6a8541-c000.csv',\n",
       " '/run/media/plengkeek/Trafficdata/STACK/dataframe/test/part-00005-b5b5ced8-b98c-420c-9eb0-adc1276a05d4-c000.csv',\n",
       " '/run/media/plengkeek/Trafficdata/STACK/dataframe/test/part-00005-c3ffb6b8-1a54-48d3-8d4c-49f7d65b1999-c000.csv',\n",
       " '/run/media/plengkeek/Trafficdata/STACK/dataframe/test/part-00005-ce67e516-cf12-4b99-8a69-8b95d5c9fd54-c000.csv',\n",
       " '/run/media/plengkeek/Trafficdata/STACK/dataframe/test/part-00006-0f94e9f0-2a19-45d7-9899-3379728b9a69-c000.csv',\n",
       " '/run/media/plengkeek/Trafficdata/STACK/dataframe/test/part-00006-7f91aaa3-d3c0-4934-b2d7-f699f1ba32aa-c000.csv',\n",
       " '/run/media/plengkeek/Trafficdata/STACK/dataframe/test/part-00006-7f939f70-0dd5-4968-9157-fc54b14dfd5f-c000.csv']"
      ]
     },
     "execution_count": 6,
     "metadata": {},
     "output_type": "execute_result"
    }
   ],
   "source": [
    "files"
   ]
  },
  {
   "cell_type": "code",
   "execution_count": 24,
   "metadata": {
    "collapsed": true
   },
   "outputs": [],
   "source": [
    "mmap = open_memmap('/tmp/arr.npy', mode='w+', dtype=np.double, shape=(100000, 13))"
   ]
  },
  {
   "cell_type": "code",
   "execution_count": 27,
   "metadata": {},
   "outputs": [
    {
     "ename": "ValueError",
     "evalue": "could not broadcast input array from shape (100,13) into shape (68,13)",
     "output_type": "error",
     "traceback": [
      "\u001b[0;31m---------------------------------------------------------------------------\u001b[0m",
      "\u001b[0;31mValueError\u001b[0m                                Traceback (most recent call last)",
      "\u001b[0;32m<ipython-input-27-80cbe9ead21f>\u001b[0m in \u001b[0;36m<module>\u001b[0;34m()\u001b[0m\n\u001b[1;32m      2\u001b[0m \u001b[0;32mfor\u001b[0m \u001b[0mfile\u001b[0m \u001b[0;32min\u001b[0m \u001b[0mfiles\u001b[0m\u001b[0;34m:\u001b[0m\u001b[0;34m\u001b[0m\u001b[0m\n\u001b[1;32m      3\u001b[0m     \u001b[0;32mfor\u001b[0m \u001b[0mchunk\u001b[0m \u001b[0;32min\u001b[0m \u001b[0mpd\u001b[0m\u001b[0;34m.\u001b[0m\u001b[0mread_csv\u001b[0m\u001b[0;34m(\u001b[0m\u001b[0mfile\u001b[0m\u001b[0;34m,\u001b[0m \u001b[0mchunksize\u001b[0m\u001b[0;34m=\u001b[0m\u001b[0;36m100\u001b[0m\u001b[0;34m)\u001b[0m\u001b[0;34m:\u001b[0m\u001b[0;34m\u001b[0m\u001b[0m\n\u001b[0;32m----> 4\u001b[0;31m         \u001b[0mmmap\u001b[0m\u001b[0;34m[\u001b[0m\u001b[0mn\u001b[0m\u001b[0;34m:\u001b[0m\u001b[0mn\u001b[0m\u001b[0;34m+\u001b[0m\u001b[0mchunk\u001b[0m\u001b[0;34m.\u001b[0m\u001b[0mshape\u001b[0m\u001b[0;34m[\u001b[0m\u001b[0;36m0\u001b[0m\u001b[0;34m]\u001b[0m\u001b[0;34m]\u001b[0m \u001b[0;34m=\u001b[0m \u001b[0mchunk\u001b[0m\u001b[0;34m.\u001b[0m\u001b[0mvalues\u001b[0m\u001b[0;34m[\u001b[0m\u001b[0;34m:\u001b[0m\u001b[0;34m,\u001b[0m\u001b[0;36m1\u001b[0m\u001b[0;34m:\u001b[0m\u001b[0;34m]\u001b[0m\u001b[0;34m\u001b[0m\u001b[0m\n\u001b[0m\u001b[1;32m      5\u001b[0m         \u001b[0mn\u001b[0m \u001b[0;34m+=\u001b[0m \u001b[0mchunk\u001b[0m\u001b[0;34m.\u001b[0m\u001b[0mshape\u001b[0m\u001b[0;34m[\u001b[0m\u001b[0;36m0\u001b[0m\u001b[0;34m]\u001b[0m\u001b[0;34m\u001b[0m\u001b[0m\n",
      "\u001b[0;31mValueError\u001b[0m: could not broadcast input array from shape (100,13) into shape (68,13)"
     ]
    }
   ],
   "source": [
    "n = 0\n",
    "for file in files:\n",
    "    for chunk in pd.read_csv(file, chunksize=100):\n",
    "        mmap[n:n+chunk.shape[0]] = chunk.values[:,1:]\n",
    "        n += chunk.shape[0]"
   ]
  },
  {
   "cell_type": "code",
   "execution_count": null,
   "metadata": {
    "collapsed": true
   },
   "outputs": [],
   "source": []
  }
 ],
 "metadata": {
  "kernelspec": {
   "display_name": "Python 3",
   "language": "python",
   "name": "python3"
  },
  "language_info": {
   "codemirror_mode": {
    "name": "ipython",
    "version": 3
   },
   "file_extension": ".py",
   "mimetype": "text/x-python",
   "name": "python",
   "nbconvert_exporter": "python",
   "pygments_lexer": "ipython3",
   "version": "3.6.3"
  }
 },
 "nbformat": 4,
 "nbformat_minor": 2
}
