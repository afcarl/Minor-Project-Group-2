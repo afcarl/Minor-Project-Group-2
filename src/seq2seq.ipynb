{
 "cells": [
  {
   "cell_type": "code",
   "execution_count": 1,
   "metadata": {},
   "outputs": [
    {
     "name": "stderr",
     "output_type": "stream",
     "text": [
      "Using TensorFlow backend.\n",
      "/home/plengkeek/anaconda3/lib/python3.6/importlib/_bootstrap.py:219: RuntimeWarning: compiletime version 3.5 of module 'tensorflow.python.framework.fast_tensor_util' does not match runtime version 3.6\n",
      "  return f(*args, **kwds)\n"
     ]
    }
   ],
   "source": [
    "import os\n",
    "from glob import glob\n",
    "import numpy as np\n",
    "import keras.layers as L\n",
    "import keras.models as M\n",
    "from keras import callbacks\n",
    "import matplotlib.pyplot as plt"
   ]
  },
  {
   "cell_type": "code",
   "execution_count": 2,
   "metadata": {},
   "outputs": [],
   "source": [
    "files = glob('/run/media/plengkeek/Trafficdata/STACK/dataframe/test/*')\n",
    "arrays = [np.genfromtxt(f, delimiter=',', skip_header=1, dtype=str) for f in files]\n",
    "dataframe = np.concatenate(arrays)"
   ]
  },
  {
   "cell_type": "code",
   "execution_count": 3,
   "metadata": {},
   "outputs": [],
   "source": [
    "dataframe = dataframe[np.lexsort((dataframe[:,3].astype(int), dataframe[:,4].astype(int), dataframe[:,5].astype(int), dataframe[:,6].astype(int), dataframe[:,7].astype(int)))]"
   ]
  },
  {
   "cell_type": "code",
   "execution_count": 4,
   "metadata": {},
   "outputs": [],
   "source": [
    "singlelocdataframe = []\n",
    "for line in dataframe:\n",
    "    if line[0] == 'GEO03_D4T-RWS_I_506_V_0017_ID_1088':\n",
    "        singlelocdataframe.append(line[7:].astype(float).tolist())\n"
   ]
  },
  {
   "cell_type": "code",
   "execution_count": 5,
   "metadata": {},
   "outputs": [],
   "source": [
    "data_x = np.zeros((int(len(singlelocdataframe)/2), 2, 7))\n",
    "data_y = np.zeros((int(len(singlelocdataframe)/2), 2, 7))\n",
    "\n",
    "timesteps = 2\n",
    "for i in range(len(singlelocdataframe)//2):\n",
    "    data_x[i] = singlelocdataframe[i:timesteps+i]\n",
    "    data_y[i] = singlelocdataframe[i+1:timesteps+i+1]\n",
    "    \n",
    "scale_x = np.max(data_x)\n",
    "scale_y = np.max(data_y)\n",
    "\n",
    "data_x = data_x / scale_x\n",
    "data_y = data_y / scale_y"
   ]
  },
  {
   "cell_type": "code",
   "execution_count": 17,
   "metadata": {},
   "outputs": [
    {
     "name": "stdout",
     "output_type": "stream",
     "text": [
      "Train on 452 samples, validate on 223 samples\n",
      "Epoch 1/50\n",
      "452/452 [==============================] - 2s 4ms/step - loss: 0.0669 - acc: 0.8009 - val_loss: 0.0655 - val_acc: 1.0000\n",
      "Epoch 2/50\n",
      "452/452 [==============================] - 0s 181us/step - loss: 0.0604 - acc: 1.0000 - val_loss: 0.0569 - val_acc: 1.0000\n",
      "Epoch 3/50\n",
      "452/452 [==============================] - 0s 181us/step - loss: 0.0504 - acc: 1.0000 - val_loss: 0.0439 - val_acc: 1.0000\n",
      "Epoch 4/50\n",
      "452/452 [==============================] - 0s 182us/step - loss: 0.0379 - acc: 1.0000 - val_loss: 0.0318 - val_acc: 1.0000\n",
      "Epoch 5/50\n",
      "452/452 [==============================] - 0s 186us/step - loss: 0.0272 - acc: 1.0000 - val_loss: 0.0224 - val_acc: 1.0000\n",
      "Epoch 6/50\n",
      "452/452 [==============================] - 0s 177us/step - loss: 0.0184 - acc: 1.0000 - val_loss: 0.0159 - val_acc: 1.0000\n",
      "Epoch 7/50\n",
      "452/452 [==============================] - 0s 183us/step - loss: 0.0137 - acc: 1.0000 - val_loss: 0.0132 - val_acc: 1.0000\n",
      "Epoch 8/50\n",
      "452/452 [==============================] - 0s 196us/step - loss: 0.0111 - acc: 1.0000 - val_loss: 0.0105 - val_acc: 1.0000\n",
      "Epoch 9/50\n",
      "452/452 [==============================] - 0s 188us/step - loss: 0.0087 - acc: 1.0000 - val_loss: 0.0082 - val_acc: 1.0000\n",
      "Epoch 10/50\n",
      "452/452 [==============================] - 0s 186us/step - loss: 0.0067 - acc: 1.0000 - val_loss: 0.0064 - val_acc: 1.0000\n",
      "Epoch 11/50\n",
      "452/452 [==============================] - 0s 183us/step - loss: 0.0051 - acc: 1.0000 - val_loss: 0.0048 - val_acc: 1.0000\n",
      "Epoch 12/50\n",
      "452/452 [==============================] - 0s 186us/step - loss: 0.0037 - acc: 1.0000 - val_loss: 0.0035 - val_acc: 1.0000\n",
      "Epoch 13/50\n",
      "452/452 [==============================] - 0s 196us/step - loss: 0.0026 - acc: 1.0000 - val_loss: 0.0026 - val_acc: 1.0000\n",
      "Epoch 14/50\n",
      "452/452 [==============================] - 0s 185us/step - loss: 0.0018 - acc: 1.0000 - val_loss: 0.0023 - val_acc: 1.0000\n",
      "Epoch 15/50\n",
      "452/452 [==============================] - 0s 183us/step - loss: 0.0014 - acc: 1.0000 - val_loss: 0.0018 - val_acc: 1.0000\n",
      "Epoch 16/50\n",
      "452/452 [==============================] - 0s 186us/step - loss: 0.0011 - acc: 1.0000 - val_loss: 0.0018 - val_acc: 1.0000\n",
      "Epoch 17/50\n",
      "452/452 [==============================] - 0s 190us/step - loss: 9.0823e-04 - acc: 1.0000 - val_loss: 0.0016 - val_acc: 1.0000\n",
      "Epoch 18/50\n",
      "452/452 [==============================] - 0s 180us/step - loss: 8.0223e-04 - acc: 1.0000 - val_loss: 0.0015 - val_acc: 1.0000\n",
      "Epoch 19/50\n",
      "452/452 [==============================] - 0s 184us/step - loss: 7.5297e-04 - acc: 1.0000 - val_loss: 0.0015 - val_acc: 1.0000\n",
      "Epoch 20/50\n",
      "452/452 [==============================] - 0s 178us/step - loss: 7.3146e-04 - acc: 1.0000 - val_loss: 0.0016 - val_acc: 1.0000\n",
      "Epoch 21/50\n",
      "452/452 [==============================] - 0s 187us/step - loss: 7.4616e-04 - acc: 1.0000 - val_loss: 0.0015 - val_acc: 1.0000\n",
      "Epoch 22/50\n",
      "452/452 [==============================] - 0s 194us/step - loss: 7.2419e-04 - acc: 1.0000 - val_loss: 0.0016 - val_acc: 1.0000\n",
      "Epoch 23/50\n",
      "452/452 [==============================] - 0s 199us/step - loss: 7.1576e-04 - acc: 1.0000 - val_loss: 0.0016 - val_acc: 1.0000\n",
      "Epoch 24/50\n",
      "452/452 [==============================] - 0s 186us/step - loss: 7.1813e-04 - acc: 1.0000 - val_loss: 0.0015 - val_acc: 1.0000\n",
      "Epoch 25/50\n",
      "452/452 [==============================] - 0s 190us/step - loss: 7.1784e-04 - acc: 1.0000 - val_loss: 0.0015 - val_acc: 1.0000\n",
      "Epoch 26/50\n",
      "452/452 [==============================] - 0s 203us/step - loss: 7.1551e-04 - acc: 1.0000 - val_loss: 0.0015 - val_acc: 1.0000\n",
      "Epoch 27/50\n",
      "452/452 [==============================] - 0s 200us/step - loss: 7.1743e-04 - acc: 1.0000 - val_loss: 0.0016 - val_acc: 1.0000\n",
      "Epoch 28/50\n",
      "452/452 [==============================] - 0s 214us/step - loss: 7.1645e-04 - acc: 1.0000 - val_loss: 0.0015 - val_acc: 1.0000\n",
      "Epoch 29/50\n",
      "452/452 [==============================] - 0s 208us/step - loss: 7.1601e-04 - acc: 1.0000 - val_loss: 0.0016 - val_acc: 1.0000\n",
      "Epoch 30/50\n",
      "452/452 [==============================] - 0s 207us/step - loss: 7.1698e-04 - acc: 1.0000 - val_loss: 0.0016 - val_acc: 1.0000\n",
      "Epoch 31/50\n",
      "452/452 [==============================] - 0s 213us/step - loss: 7.1801e-04 - acc: 1.0000 - val_loss: 0.0015 - val_acc: 1.0000\n",
      "Epoch 32/50\n",
      "452/452 [==============================] - 0s 195us/step - loss: 7.1827e-04 - acc: 1.0000 - val_loss: 0.0016 - val_acc: 1.0000\n",
      "Epoch 33/50\n",
      "452/452 [==============================] - 0s 204us/step - loss: 7.2323e-04 - acc: 1.0000 - val_loss: 0.0016 - val_acc: 1.0000\n",
      "Epoch 34/50\n",
      "452/452 [==============================] - 0s 209us/step - loss: 7.1970e-04 - acc: 1.0000 - val_loss: 0.0016 - val_acc: 1.0000\n",
      "Epoch 35/50\n",
      "452/452 [==============================] - 0s 221us/step - loss: 7.1668e-04 - acc: 1.0000 - val_loss: 0.0016 - val_acc: 1.0000\n",
      "Epoch 36/50\n",
      "452/452 [==============================] - 0s 199us/step - loss: 7.1425e-04 - acc: 1.0000 - val_loss: 0.0016 - val_acc: 1.0000\n",
      "Epoch 37/50\n",
      "452/452 [==============================] - 0s 218us/step - loss: 7.1392e-04 - acc: 1.0000 - val_loss: 0.0015 - val_acc: 1.0000\n",
      "Epoch 38/50\n",
      "452/452 [==============================] - 0s 224us/step - loss: 7.1547e-04 - acc: 1.0000 - val_loss: 0.0015 - val_acc: 1.0000\n",
      "Epoch 39/50\n",
      "452/452 [==============================] - 0s 206us/step - loss: 7.1702e-04 - acc: 1.0000 - val_loss: 0.0016 - val_acc: 1.0000\n",
      "Epoch 40/50\n",
      "452/452 [==============================] - 0s 189us/step - loss: 7.1463e-04 - acc: 1.0000 - val_loss: 0.0015 - val_acc: 1.0000\n",
      "Epoch 41/50\n",
      "452/452 [==============================] - 0s 187us/step - loss: 7.2977e-04 - acc: 1.0000 - val_loss: 0.0015 - val_acc: 1.0000\n",
      "Epoch 42/50\n",
      "452/452 [==============================] - 0s 182us/step - loss: 7.2198e-04 - acc: 1.0000 - val_loss: 0.0016 - val_acc: 1.0000\n",
      "Epoch 43/50\n",
      "452/452 [==============================] - 0s 189us/step - loss: 7.1439e-04 - acc: 1.0000 - val_loss: 0.0016 - val_acc: 1.0000\n",
      "Epoch 44/50\n",
      "452/452 [==============================] - 0s 187us/step - loss: 7.1563e-04 - acc: 1.0000 - val_loss: 0.0016 - val_acc: 1.0000\n",
      "Epoch 45/50\n",
      "452/452 [==============================] - 0s 193us/step - loss: 7.1760e-04 - acc: 1.0000 - val_loss: 0.0016 - val_acc: 1.0000\n",
      "Epoch 46/50\n",
      "452/452 [==============================] - 0s 203us/step - loss: 7.1395e-04 - acc: 1.0000 - val_loss: 0.0015 - val_acc: 1.0000\n",
      "Epoch 47/50\n",
      "452/452 [==============================] - 0s 187us/step - loss: 7.1999e-04 - acc: 1.0000 - val_loss: 0.0016 - val_acc: 1.0000\n",
      "Epoch 48/50\n",
      "452/452 [==============================] - 0s 180us/step - loss: 7.1222e-04 - acc: 1.0000 - val_loss: 0.0015 - val_acc: 1.0000\n",
      "Epoch 49/50\n",
      "452/452 [==============================] - 0s 178us/step - loss: 7.1408e-04 - acc: 1.0000 - val_loss: 0.0016 - val_acc: 1.0000\n",
      "Epoch 50/50\n",
      "452/452 [==============================] - 0s 195us/step - loss: 7.1143e-04 - acc: 1.0000 - val_loss: 0.0015 - val_acc: 1.0000\n",
      "[[[  10.09265614  120.03912354   17.96591187    7.28581476    3.22195363\n",
      "     12.60920238   23.74670219]\n",
      "  [  10.25812531  117.79475403   17.78180885    7.29004812    3.03444386\n",
      "     12.2908392    23.68196106]]\n",
      "\n",
      " [[  10.09265614  120.03912354   17.96591187    7.28581476    3.22195363\n",
      "     12.60920238   23.74670219]\n",
      "  [   9.81595039  114.20825195   17.47531128    7.18169403    3.17013335\n",
      "     12.13836002   23.87183189]]]\n"
     ]
    }
   ],
   "source": [
    "model_input = L.Input(shape=(2, 7))\n",
    "layer1 = L.LSTM(32, return_sequences=True)(model_input)\n",
    "layer2 = L.LSTM(32, return_sequences=True)(layer1)\n",
    "model_output = L.LSTM(7, return_sequences=True)(layer2)\n",
    "\n",
    "model = M.Model(inputs=model_input, outputs=model_output)\n",
    "\n",
    "model.compile(loss='mse', optimizer='adam', metrics=['accuracy'])\n",
    "history = model.fit(data_x, data_y, validation_split=0.33, epochs=50)\n",
    "'''''\n",
    ",\n",
    "          callbacks=[callbacks.EarlyStopping(monitor='val_acc',\n",
    "                              min_delta=0.01,\n",
    "                              patience=2,\n",
    "                              verbose=0, mode='max')])\n",
    "'''''\n",
    "print(model.predict(data_x[0:2]) * scale_y)"
   ]
  },
  {
   "cell_type": "code",
   "execution_count": 18,
   "metadata": {},
   "outputs": [
    {
     "data": {
      "image/png": "[encoded data removed]",
      "text/plain": [
       "<matplotlib.figure.Figure at 0x7fd550c95940>"
      ]
     },
     "metadata": {},
     "output_type": "display_data"
    },
    {
     "data": {
      "image/png": "[encoded data removed]",
      "text/plain": [
       "<matplotlib.figure.Figure at 0x7fd550ce76d8>"
      ]
     },
     "metadata": {},
     "output_type": "display_data"
    }
   ],
   "source": [
    "plt.plot(history.history['acc'])\n",
    "plt.plot(history.history['val_acc'])\n",
    "plt.title('model accuracy')\n",
    "plt.ylabel('accuracy')\n",
    "plt.xlabel('epoch')\n",
    "plt.legend(['train', 'test'], loc='upper left')\n",
    "plt.show()\n",
    "plt.plot(history.history['loss'])\n",
    "plt.plot(history.history['val_loss'])\n",
    "plt.title('model loss')\n",
    "plt.ylabel('loss')\n",
    "plt.xlabel('epoch')\n",
    "plt.legend(['train', 'test'], loc='upper left')\n",
    "plt.show()"
   ]
  },
  {
   "cell_type": "code",
   "execution_count": null,
   "metadata": {
    "collapsed": true
   },
   "outputs": [],
   "source": []
  }
 ],
 "metadata": {
  "kernelspec": {
   "display_name": "Python 3",
   "language": "python",
   "name": "python3"
  },
  "language_info": {
   "codemirror_mode": {
    "name": "ipython",
    "version": 3
   },
   "file_extension": ".py",
   "mimetype": "text/x-python",
   "name": "python",
   "nbconvert_exporter": "python",
   "pygments_lexer": "ipython3",
   "version": "3.6.3"
  }
 },
 "nbformat": 4,
 "nbformat_minor": 2
}
